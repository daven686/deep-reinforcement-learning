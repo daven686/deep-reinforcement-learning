{
 "cells": [
  {
   "cell_type": "markdown",
   "metadata": {},
   "source": [
    "# Project 2: Continuous Control"
   ]
  },
  {
   "cell_type": "markdown",
   "metadata": {},
   "source": [
    "This notebook provides the main part of code for training the agent. Beyond this notebook, the Python files 'actor_critic_networks.py' and 'deep_det_policy_grad_agent.py' are necessary for successfully solving this continuous control project."
   ]
  },
  {
   "cell_type": "markdown",
   "metadata": {},
   "source": [
    "### 1. Set the framework"
   ]
  },
  {
   "cell_type": "markdown",
   "metadata": {},
   "source": [
    "First, load necessary packages."
   ]
  },
  {
   "cell_type": "code",
   "execution_count": 1,
   "metadata": {},
   "outputs": [],
   "source": [
    "import torch\n",
    "import numpy as np\n",
    "import random\n",
    "import matplotlib.pyplot as plt\n",
    "from unityagents import UnityEnvironment\n",
    "from collections import deque\n",
    "from deep_det_policy_grad_agent import Agent"
   ]
  },
  {
   "cell_type": "markdown",
   "metadata": {},
   "source": [
    "Now, start the environment."
   ]
  },
  {
   "cell_type": "code",
   "execution_count": 2,
   "metadata": {},
   "outputs": [
    {
     "name": "stderr",
     "output_type": "stream",
     "text": [
      "INFO:unityagents:\n",
      "'Academy' started successfully!\n",
      "Unity Academy name: Academy\n",
      "        Number of Brains: 1\n",
      "        Number of External Brains : 1\n",
      "        Lesson number : 0\n",
      "        Reset Parameters :\n",
      "\t\tgoal_speed -> 1.0\n",
      "\t\tgoal_size -> 5.0\n",
      "Unity brain name: ReacherBrain\n",
      "        Number of Visual Observations (per agent): 0\n",
      "        Vector Observation space type: continuous\n",
      "        Vector Observation space size (per agent): 33\n",
      "        Number of stacked Vector Observation: 1\n",
      "        Vector Action space type: continuous\n",
      "        Vector Action space size (per agent): 4\n",
      "        Vector Action descriptions: , , , \n"
     ]
    }
   ],
   "source": [
    "env = UnityEnvironment(file_name='C:/Users/DNEUHAE/Desktop/DRL/p2_continuous-control/Reacher_Windows_x86_64/Reacher.exe')\n",
    "\n",
    "# get the default brain\n",
    "brain_name = env.brain_names[0]\n",
    "brain = env.brains[brain_name]"
   ]
  },
  {
   "cell_type": "markdown",
   "metadata": {},
   "source": [
    "### 2. Initialize the agent"
   ]
  },
  {
   "cell_type": "code",
   "execution_count": 3,
   "metadata": {},
   "outputs": [],
   "source": [
    "from actor_critic_networks import Actor_2HL_BN, Critic_2HL_BN, Actor_1HL, Critic_3HL_leaky\n",
    "\n",
    "env_info = env.reset(train_mode=True)[brain_name]\n",
    "num_agents = len(env_info.agents)\n",
    "\n",
    "# extract size information for action space and state space  \n",
    "action_size = brain.vector_action_space_size\n",
    "state_size = brain.vector_observation_space_size"
   ]
  },
  {
   "cell_type": "markdown",
   "metadata": {},
   "source": [
    "Now, we initialize two actor-critic-agents. The first one ('actor_critic_2x2_BN') has an actor network with 2 hidden layers and a critic network with 2 hidden layers, each equipped with batch normalization. The second agent ('actor_critic_1x3_leaky') has an actor network with 1 hidden layer and a critic network with 3 hidden layers, each equipped with leaky relus. Thus, the difference between the actor-critic-agents is the architecture of the neural nets."
   ]
  },
  {
   "cell_type": "code",
   "execution_count": 4,
   "metadata": {},
   "outputs": [],
   "source": [
    "actor_critic_2x2_BN = Agent(action_size=action_size, state_size=state_size, random_seed=0, actor_net=Actor_2HL_BN, critic_net=Critic_2HL_BN)\n",
    "actor_critic_1x3_leaky = Agent(action_size=action_size, state_size=state_size, random_seed=0, actor_net=Actor_1HL, critic_net=Critic_3HL_leaky)"
   ]
  },
  {
   "cell_type": "markdown",
   "metadata": {},
   "source": [
    "### 3. Train the agents via Deep Deterministic Policy Gradient"
   ]
  },
  {
   "cell_type": "code",
   "execution_count": 5,
   "metadata": {},
   "outputs": [],
   "source": [
    "def ddpg(n_episodes, max_t, agent, pth_filename_act, pth_filename_cri):\n",
    "    \"\"\"\n",
    "    Deep Deterministic Policy Gradient (DDPG)\n",
    "    \n",
    "    Params\n",
    "    ======\n",
    "        n_episodes (int): number of training episodes\n",
    "        max_t (int): maximum number of timesteps per episode\n",
    "        agent (Agent object): Actor-Critic-Agent with specified network architecture \n",
    "        pth_filename_act (str): name for the '*.pth'-file for actor\n",
    "        pth_filename_cri (str): name for the '*.pth'-file for critic\n",
    "    \"\"\"\n",
    "    \n",
    "    scores = []                                                # list containing scores from each episode   \n",
    "    scores_window = deque(maxlen=100)                          # store only the last 100 scores\n",
    "    actor_critic_agent = agent                                 # specify agent's neural networks architectures\n",
    "    \n",
    "    for n_episode in range(1, n_episodes+1):                   # run n_episodes\n",
    "        env_info = env.reset(train_mode=True)[brain_name]      # reset the environment\n",
    "        states = env_info.vector_observations                  # get the current state (for each agent)\n",
    "        score = np.zeros(num_agents)                           # initialize the score (for each agent)\n",
    "        \n",
    "        for t in range(max_t):                                 # run for maximum of max_t timesteps \n",
    "            actions = actor_critic_agent.act(states)           # get the actions\n",
    "            env_info = env.step(actions)[brain_name] \n",
    "            next_states = env_info.vector_observations         # get the states\n",
    "            rewards = env_info.rewards                         # get the rewards\n",
    "            dones = env_info.local_done                        # is the episode complete or not\n",
    "            for i in range(20):                                # for all 20 agents in parallel: execute next \"step\" --> train\n",
    "                actor_critic_agent.step(states[i], actions[i], rewards[i], next_states[i], dones[i], t)\n",
    "            states = next_states\n",
    "            score += rewards\n",
    "            if np.any(dones):                                  # exit loop if episode finished\n",
    "                break\n",
    "                \n",
    "        score = score.mean()                                   # get the mean score of the episode (over all agents)\n",
    "        scores_window.append(score)                            # store the score in the queue\n",
    "        scores.append(score)                                   # store the score in the list (for plotting)\n",
    "        \n",
    "        # print mean score per episode\n",
    "        print('\\rEpisode {}\\tScore: {:.2f}'.format(n_episode, score), end=\"\")\n",
    "\n",
    "        # calculate mean score over the last 100 episodes\n",
    "        mean_sc = np.mean(scores_window)                       \n",
    "        if n_episode % 100 == 0:\n",
    "            print('\\rEpisode {}\\tAverage Score: {:.2f}'.format(n_episode, mean_sc))\n",
    "            \n",
    "        if len(scores_window) == 100 and mean_sc >= 30 :\n",
    "            print('\\rEnvironment solved in {} episodes, mean score: {:.2f}'.format(n_episode, mean_sc))\n",
    "            torch.save(agent.actor_local.state_dict(), pth_filename_act)\n",
    "            torch.save(agent.critic_local.state_dict(), pth_filename_cri)\n",
    "            break\n",
    "            \n",
    "    return scores"
   ]
  },
  {
   "cell_type": "markdown",
   "metadata": {},
   "source": [
    "#### 3.1 Actor-Critic-Agent via 'actor_critic_2x2_BN'"
   ]
  },
  {
   "cell_type": "code",
   "execution_count": 7,
   "metadata": {},
   "outputs": [
    {
     "name": "stdout",
     "output_type": "stream",
     "text": [
      "Episode 100\tAverage Score: 29.59\n",
      "Environment solved in 102 episodes, mean score: 30.36\n"
     ]
    }
   ],
   "source": [
    "scores = ddpg(n_episodes=5000, \n",
    "              max_t=1000, \n",
    "              agent=actor_critic_2x2_BN, \n",
    "              pth_filename_act='actor_2x2_BN.pth',\n",
    "              pth_filename_cri='critic_2x2_BN.pth'\n",
    "             )"
   ]
  },
  {
   "cell_type": "code",
   "execution_count": 8,
   "metadata": {},
   "outputs": [
    {
     "data": {
      "image/png": "[encoded data removed]",
      "text/plain": [
       "<Figure size 640x480 with 1 Axes>"
      ]
     },
     "metadata": {},
     "output_type": "display_data"
    }
   ],
   "source": [
    "# plot the scores\n",
    "fig = plt.figure()\n",
    "ax = fig.add_subplot(111)\n",
    "plt.plot(np.arange(1, len(scores)+1), scores)\n",
    "plt.ylabel('Score')\n",
    "plt.xlabel('Number of episode')\n",
    "plt.savefig('C:/Users/DNEUHAE/Desktop/DRL/p2_continuous-control/actor_critic_2x2_BN.png', bbox_inches='tight')\n",
    "plt.show()"
   ]
  },
  {
   "cell_type": "markdown",
   "metadata": {},
   "source": [
    "#### 3.2 Actor-Critic-Agent via 'actor_critic_1x3_leaky'"
   ]
  },
  {
   "cell_type": "code",
   "execution_count": 9,
   "metadata": {},
   "outputs": [
    {
     "name": "stdout",
     "output_type": "stream",
     "text": [
      "Episode 100\tAverage Score: 30.04\n",
      "Environment solved in 100 episodes, mean score: 30.04\n"
     ]
    }
   ],
   "source": [
    "scores = ddpg(n_episodes=5000, \n",
    "              max_t=1000, \n",
    "              agent=actor_critic_1x3_leaky, \n",
    "              pth_filename_act='actor_1x3_leaky.pth',\n",
    "              pth_filename_cri='critic_1x3_leaky.pth'\n",
    "             )"
   ]
  },
  {
   "cell_type": "code",
   "execution_count": 10,
   "metadata": {},
   "outputs": [
    {
     "data": {
      "image/png": "[encoded data removed]",
      "text/plain": [
       "<Figure size 640x480 with 1 Axes>"
      ]
     },
     "metadata": {},
     "output_type": "display_data"
    }
   ],
   "source": [
    "fig = plt.figure()\n",
    "ax = fig.add_subplot(111)\n",
    "plt.plot(np.arange(1, len(scores)+1), scores)\n",
    "plt.ylabel('Score')\n",
    "plt.xlabel('Number of episode')\n",
    "plt.savefig('C:/Users/DNEUHAE/Desktop/DRL/p2_continuous-control/actor_critic_1x3_leaky.png', bbox_inches='tight')\n",
    "plt.show()"
   ]
  },
  {
   "cell_type": "markdown",
   "metadata": {},
   "source": [
    "### 4. Load trained agents and see models in action"
   ]
  },
  {
   "cell_type": "code",
   "execution_count": 7,
   "metadata": {},
   "outputs": [
    {
     "data": {
      "text/plain": [
       "<All keys matched successfully>"
      ]
     },
     "execution_count": 7,
     "metadata": {},
     "output_type": "execute_result"
    }
   ],
   "source": [
    "agent = actor_critic_2x2_BN\n",
    "agent.actor_local.load_state_dict(torch.load('actor_2x2_BN.pth'))\n",
    "agent.critic_local.load_state_dict(torch.load('critic_2x2_BN.pth'))\n",
    "\n",
    "#agent = actor_critic_1x3_leaky\n",
    "#agent.actor_local.load_state_dict(torch.load('actor_1x3_leaky.pth'))\n",
    "#agent.critic_local.load_state_dict(torch.load('critic_1x3_leaky.pth'))"
   ]
  },
  {
   "cell_type": "code",
   "execution_count": 8,
   "metadata": {},
   "outputs": [
    {
     "name": "stdout",
     "output_type": "stream",
     "text": [
      "Total score (averaged over agents) this episode: 39.41949911890551\n"
     ]
    }
   ],
   "source": [
    "env_info = env.reset(train_mode=False)[brain_name]     # reset the environment\n",
    "states = env_info.vector_observations                  # get the current state (for each agent)        \n",
    "score = np.zeros(num_agents)                           # initialize the score (for each agent)   \n",
    "\n",
    "while True:\n",
    "    actions = agent.act(states)                        # select the actions\n",
    "    env_info = env.step(actions)[brain_name]           # send the action to the environment\n",
    "    next_states = env_info.vector_observations         # get next states\n",
    "    rewards = env_info.rewards                         # get the rewards\n",
    "    dones = env_info.local_done                        # see if episode has finished\n",
    "    score += rewards                                   # update score by reward\n",
    "    states = next_states                               # roll over the state to next time step\n",
    "    if np.any(dones):                                  # exit loop if episode finished\n",
    "        break        \n",
    "                   \n",
    "print('Total score (averaged over agents) this episode: {}'.format(np.mean(score)))     "
   ]
  },
  {
   "cell_type": "code",
   "execution_count": 4,
   "metadata": {},
   "outputs": [],
   "source": [
    "env.close()"
   ]
  }
 ],
 "metadata": {
  "kernelspec": {
   "display_name": "Python 3 (ipykernel)",
   "language": "python",
   "name": "python3"
  },
  "language_info": {
   "codemirror_mode": {
    "name": "ipython",
    "version": 3
   },
   "file_extension": ".py",
   "mimetype": "text/x-python",
   "name": "python",
   "nbconvert_exporter": "python",
   "pygments_lexer": "ipython3",
   "version": "3.10.7"
  }
 },
 "nbformat": 4,
 "nbformat_minor": 2
}
