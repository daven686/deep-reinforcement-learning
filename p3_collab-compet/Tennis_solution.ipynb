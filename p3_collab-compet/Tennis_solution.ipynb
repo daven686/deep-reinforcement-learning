{
 "cells": [
  {
   "cell_type": "markdown",
   "metadata": {},
   "source": [
    "# Project 3: Collaboration and Competition"
   ]
  },
  {
   "cell_type": "markdown",
   "metadata": {},
   "source": [
    "This notebook provides the main part of code for training the agents. Beyond this notebook, the Python files 'actor_critic_networks.py', 'deep_det_policy_grad_agent.py' and 'deep_det_policy_grad_multi_agents.py' are necessary for successfully solving this collaboration and competition project."
   ]
  },
  {
   "cell_type": "markdown",
   "metadata": {},
   "source": [
    "### 1. Set the framework"
   ]
  },
  {
   "cell_type": "markdown",
   "metadata": {},
   "source": [
    "First, load necessary packages."
   ]
  },
  {
   "cell_type": "code",
   "execution_count": 1,
   "metadata": {},
   "outputs": [],
   "source": [
    "import torch\n",
    "import numpy as np\n",
    "import random\n",
    "import matplotlib.pyplot as plt\n",
    "import warnings\n",
    "warnings.filterwarnings(\"ignore\")\n",
    "from unityagents import UnityEnvironment\n",
    "from collections import deque\n",
    "from deep_det_policy_grad_multi_agents import MADDPG"
   ]
  },
  {
   "cell_type": "markdown",
   "metadata": {},
   "source": [
    "Now, start the environment."
   ]
  },
  {
   "cell_type": "code",
   "execution_count": 2,
   "metadata": {},
   "outputs": [
    {
     "name": "stderr",
     "output_type": "stream",
     "text": [
      "INFO:unityagents:\n",
      "'Academy' started successfully!\n",
      "Unity Academy name: Academy\n",
      "        Number of Brains: 1\n",
      "        Number of External Brains : 1\n",
      "        Lesson number : 0\n",
      "        Reset Parameters :\n",
      "\t\t\n",
      "Unity brain name: TennisBrain\n",
      "        Number of Visual Observations (per agent): 0\n",
      "        Vector Observation space type: continuous\n",
      "        Vector Observation space size (per agent): 8\n",
      "        Number of stacked Vector Observation: 3\n",
      "        Vector Action space type: continuous\n",
      "        Vector Action space size (per agent): 2\n",
      "        Vector Action descriptions: , \n"
     ]
    }
   ],
   "source": [
    "env = UnityEnvironment(file_name=\"C:/Users/DNEUHAE/Desktop/DRL/p3_collab-compet/Tennis_Windows_x86_64/Tennis.exe\")\n",
    "\n",
    "# get the default brain\n",
    "brain_name = env.brain_names[0]\n",
    "brain = env.brains[brain_name]"
   ]
  },
  {
   "cell_type": "markdown",
   "metadata": {},
   "source": [
    "### 2. Initialize the agents"
   ]
  },
  {
   "cell_type": "code",
   "execution_count": 3,
   "metadata": {},
   "outputs": [],
   "source": [
    "from actor_critic_networks import Actor_2HL_BN, Critic_2HL_BN, Actor_1HL, Critic_3HL_leaky\n",
    "\n",
    "env_info = env.reset(train_mode=True)[brain_name]\n",
    "num_agents = len(env_info.agents)\n",
    "\n",
    "# extract size information for action space and state space  \n",
    "action_size = brain.vector_action_space_size\n",
    "states = env_info.vector_observations\n",
    "state_size = states.shape[1]"
   ]
  },
  {
   "cell_type": "markdown",
   "metadata": {},
   "source": [
    "Now, we initialize two types of actor-critic-agents. The first architecture type ('MA_actor_critic_2x2_BN') has an actor network with 2 hidden layers and a critic network with 2 hidden layers, each equipped with batch normalization. The second architecture ('MA_actor_critic_1x3_leaky') has an actor network with 1 hidden layer and a critic network with 3 hidden layers, each equipped with leaky relus. Thus, the difference between the actor-critic-agents is the architecture of the neural nets. Note that the individual architecture for each of the two agents is within one architecture type always the same, i.e. both agents are of type 'actor_critic_2x2_BN' or both agents are of type 'actor_critic_1x3_leaky'.  "
   ]
  },
  {
   "cell_type": "code",
   "execution_count": 4,
   "metadata": {},
   "outputs": [],
   "source": [
    "MA_actor_critic_2x2_BN = MADDPG(action_size=action_size, state_size=state_size, random_seed=0, actor_net=Actor_2HL_BN, critic_net=Critic_2HL_BN)\n",
    "MA_actor_critic_1x3_leaky = MADDPG(action_size=action_size, state_size=state_size, random_seed=0, actor_net=Actor_1HL, critic_net=Critic_3HL_leaky)"
   ]
  },
  {
   "cell_type": "markdown",
   "metadata": {},
   "source": [
    "### 3. Train the agents via Multi-Agent Deep Deterministic Policy Gradient"
   ]
  },
  {
   "cell_type": "code",
   "execution_count": 5,
   "metadata": {},
   "outputs": [],
   "source": [
    "def maddpg(n_episodes, max_t, agents, pth_filename_act, pth_filename_cri):\n",
    "    \"\"\"\n",
    "    Multi-Agent Deep Deterministic Policy Gradient (MADDPG)\n",
    "    \n",
    "    Params\n",
    "    ======\n",
    "        n_episodes (int): number of training episodes\n",
    "        max_t (int): maximum number of timesteps per episode\n",
    "        agent (Agent object): Actor-Critic-Agent with specified network architecture \n",
    "        pth_filename_act (str): name for the '*.pth'-file for actors\n",
    "        pth_filename_cri (str): name for the '*.pth'-file for critics\n",
    "    \"\"\"\n",
    "    \n",
    "    scores = []                                                # list containing scores from each episode   \n",
    "    scores_window = deque(maxlen=100)                          # store only the last 100 scores\n",
    "    \n",
    "    for n_episode in range(1, n_episodes+1):                   # run n_episodes\n",
    "        env_info = env.reset(train_mode=True)[brain_name]      # reset the environment\n",
    "        states = env_info.vector_observations                  # get the current state (for each agent)\n",
    "        score = np.zeros(num_agents)                           # initialize the score (for each agent)\n",
    "        \n",
    "        for t in range(max_t):                                 # run for maximum of max_t timesteps \n",
    "            actions = agents.act(states, noise=True)           # get the actions\n",
    "            env_info = env.step(actions)[brain_name] \n",
    "            next_states = env_info.vector_observations         # get the states\n",
    "            rewards = env_info.rewards                         # get the rewards\n",
    "            dones = env_info.local_done                        # is the episode complete or not\n",
    "            agents.step(states, actions, rewards, next_states, dones, t)\n",
    "            states = next_states\n",
    "            score += rewards\n",
    "            if np.any(dones):                                  # exit loop if episode finished\n",
    "                break\n",
    "                \n",
    "        scores_window.append(np.max(score))\n",
    "        scores.append(np.max(score))\n",
    "        \n",
    "        if n_episode % 100 == 0:\n",
    "            print('\\rEpisode {}... Average Score: {:.2f}'.format(n_episode, np.mean(scores_window)))\n",
    "            \n",
    "        if np.mean(scores_window) >= 0.5:\n",
    "            print('\\nEnvironment solved in {:d} episodes... Average Score: {:.2f}'.format(n_episode, np.mean(scores_window)))\n",
    "            agents.save_trained_agents(pth_filename_act=pth_filename_act,pth_filename_cri=pth_filename_cri)\n",
    "            break\n",
    "            \n",
    "    return scores"
   ]
  },
  {
   "cell_type": "markdown",
   "metadata": {},
   "source": [
    "#### 3.1 Actor-Critic-Agents via 'MA_actor_critic_2x2_BN'"
   ]
  },
  {
   "cell_type": "code",
   "execution_count": 6,
   "metadata": {},
   "outputs": [
    {
     "name": "stdout",
     "output_type": "stream",
     "text": [
      "Episode 100... Average Score: 0.00\n",
      "Episode 200... Average Score: 0.00\n",
      "Episode 300... Average Score: 0.03\n",
      "Episode 400... Average Score: 0.00\n",
      "Episode 500... Average Score: 0.00\n",
      "Episode 600... Average Score: 0.00\n",
      "Episode 700... Average Score: 0.02\n",
      "Episode 800... Average Score: 0.02\n",
      "Episode 900... Average Score: 0.05\n",
      "Episode 1000... Average Score: 0.06\n",
      "Episode 1100... Average Score: 0.07\n",
      "Episode 1200... Average Score: 0.07\n",
      "Episode 1300... Average Score: 0.05\n",
      "Episode 1400... Average Score: 0.05\n",
      "Episode 1500... Average Score: 0.06\n",
      "Episode 1600... Average Score: 0.07\n",
      "Episode 1700... Average Score: 0.07\n",
      "Episode 1800... Average Score: 0.08\n",
      "Episode 1900... Average Score: 0.09\n",
      "Episode 2000... Average Score: 0.11\n",
      "Episode 2100... Average Score: 0.14\n",
      "Episode 2200... Average Score: 0.19\n",
      "Episode 2300... Average Score: 0.12\n",
      "\n",
      "Environment solved in 2388 episodes... Average Score: 0.51\n"
     ]
    }
   ],
   "source": [
    "scores = maddpg(n_episodes=10000, \n",
    "                max_t=1000, \n",
    "                agents=MA_actor_critic_2x2_BN,\n",
    "                pth_filename_act='actor_2x2_BN',\n",
    "                pth_filename_cri='critic_2x2_BN'\n",
    "                )"
   ]
  },
  {
   "cell_type": "code",
   "execution_count": 7,
   "metadata": {},
   "outputs": [
    {
     "data": {
      "image/png": "[encoded data removed]",
      "text/plain": [
       "<Figure size 640x480 with 1 Axes>"
      ]
     },
     "metadata": {},
     "output_type": "display_data"
    }
   ],
   "source": [
    "# plot the scores\n",
    "fig = plt.figure()\n",
    "ax = fig.add_subplot(111)\n",
    "plt.plot(np.arange(1, len(scores)+1), scores)\n",
    "plt.ylabel('Score')\n",
    "plt.xlabel('Number of episode')\n",
    "plt.savefig('C:/Users/DNEUHAE/Desktop/DRL/p3_collab-compet/actor_critic_2x2_BN.png', bbox_inches='tight')\n",
    "plt.show()"
   ]
  },
  {
   "cell_type": "markdown",
   "metadata": {},
   "source": [
    "#### 3.2 Actor-Critic-Agents via 'MA_actor_critic_1x3_leaky'"
   ]
  },
  {
   "cell_type": "code",
   "execution_count": 6,
   "metadata": {},
   "outputs": [
    {
     "name": "stdout",
     "output_type": "stream",
     "text": [
      "Episode 100... Average Score: 0.00\n",
      "Episode 200... Average Score: 0.00\n",
      "Episode 300... Average Score: 0.00\n",
      "Episode 400... Average Score: 0.00\n",
      "Episode 500... Average Score: 0.00\n",
      "Episode 600... Average Score: 0.00\n",
      "Episode 700... Average Score: 0.01\n",
      "Episode 800... Average Score: 0.01\n",
      "Episode 900... Average Score: 0.00\n",
      "Episode 1000... Average Score: 0.02\n",
      "Episode 1100... Average Score: 0.02\n",
      "Episode 1200... Average Score: 0.01\n",
      "Episode 1300... Average Score: 0.00\n",
      "Episode 1400... Average Score: 0.02\n",
      "Episode 1500... Average Score: 0.06\n",
      "Episode 1600... Average Score: 0.05\n",
      "Episode 1700... Average Score: 0.01\n",
      "Episode 1800... Average Score: 0.00\n",
      "Episode 1900... Average Score: 0.00\n",
      "Episode 2000... Average Score: 0.03\n",
      "Episode 2100... Average Score: 0.07\n",
      "Episode 2200... Average Score: 0.10\n",
      "Episode 2300... Average Score: 0.10\n",
      "Episode 2400... Average Score: 0.14\n",
      "Episode 2500... Average Score: 0.11\n",
      "Episode 2600... Average Score: 0.12\n",
      "Episode 2700... Average Score: 0.14\n",
      "Episode 2800... Average Score: 0.20\n",
      "Episode 2900... Average Score: 0.16\n",
      "Episode 3000... Average Score: 0.13\n",
      "Episode 3100... Average Score: 0.19\n",
      "Episode 3200... Average Score: 0.14\n",
      "Episode 3300... Average Score: 0.11\n",
      "Episode 3400... Average Score: 0.13\n",
      "Episode 3500... Average Score: 0.22\n",
      "Episode 3600... Average Score: 0.29\n",
      "\n",
      "Environment solved in 3652 episodes... Average Score: 0.50\n"
     ]
    }
   ],
   "source": [
    "scores = maddpg(n_episodes=10000, \n",
    "                max_t=1000, \n",
    "                agents=MA_actor_critic_1x3_leaky,\n",
    "                pth_filename_act='actor_1x3_leaky',\n",
    "                pth_filename_cri='critic_1x3_leaky'\n",
    "               )"
   ]
  },
  {
   "cell_type": "code",
   "execution_count": 7,
   "metadata": {},
   "outputs": [
    {
     "data": {
      "image/png": "[encoded data removed]",
      "text/plain": [
       "<Figure size 640x480 with 1 Axes>"
      ]
     },
     "metadata": {},
     "output_type": "display_data"
    }
   ],
   "source": [
    "# plot the scores\n",
    "fig = plt.figure()\n",
    "ax = fig.add_subplot(111)\n",
    "plt.plot(np.arange(1, len(scores)+1), scores)\n",
    "plt.ylabel('Score')\n",
    "plt.xlabel('Number of episode')\n",
    "plt.savefig('C:/Users/DNEUHAE/Desktop/DRL/p3_collab-compet/actor_critic_1x3_leaky.png', bbox_inches='tight')\n",
    "plt.show()"
   ]
  },
  {
   "cell_type": "code",
   "execution_count": null,
   "metadata": {},
   "outputs": [],
   "source": [
    "env.close()"
   ]
  }
 ],
 "metadata": {
  "kernelspec": {
   "display_name": "Python 3 (ipykernel)",
   "language": "python",
   "name": "python3"
  },
  "language_info": {
   "codemirror_mode": {
    "name": "ipython",
    "version": 3
   },
   "file_extension": ".py",
   "mimetype": "text/x-python",
   "name": "python",
   "nbconvert_exporter": "python",
   "pygments_lexer": "ipython3",
   "version": "3.10.7"
  }
 },
 "nbformat": 4,
 "nbformat_minor": 2
}
